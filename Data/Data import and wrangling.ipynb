{
 "cells": [
  {
   "cell_type": "markdown",
   "id": "bd359dc7",
   "metadata": {},
   "source": [
    "<div style=\"color: #2F5496; text-decoration: underline; font-size: 20px; font-weight: bold;\">\n",
    "    Data\n",
    "</div>"
   ]
  },
  {
   "cell_type": "markdown",
   "id": "7c3c8700",
   "metadata": {},
   "source": [
    "**Below are links to the raw datafiles used in this analysis. Each requires downloading and saving locally. If saved alongside this Notebook, this must be in a folder called 'Raw data files' to use the code in this Notebook without edits.**"
   ]
  },
  {
   "cell_type": "markdown",
   "id": "017453d6",
   "metadata": {},
   "source": [
    "Office for National Statistics (ONS). 2021. *Census 2021 geographies*. [Online]. [Accessed 09 January 2024]. Available from: https://www.ons.gov.uk/methodology/geography/ukgeographies/censusgeographies/census2021geographies\n",
    "\n",
    "Office for National Statistics (ONS). 2023a. Output Areas (2021) Boundaries EW BFC. *Open Geography Portal*. [Online]. [Accessed 11 December 2023]. Available from: https://geoportal.statistics.gov.uk/datasets/ons::output-areas-2021-boundaries-ew-bfc/about\n",
    "\n",
    "Office for National Statistics (ONS). 2023b. Output Areas (December 2021) PWC (V3). *Open Geography Portal*. [Online]. [Accessed 11 December 2023]. Available from: https://geoportal.statistics.gov.uk/datasets/ons::output-areas-december-2021-pwc-v3/about\n",
    "\n",
    "Office for National Statistics (ONS). 2023c. Output Area to Lower layer Super Output Area to Middle layer Super Output Area to Local Authority District (December 2021) Lookup in England and Wales V2. *Open Geography Portal*. [Online]. [Accessed 14 December 2023]. Available from: https://geoportal.statistics.gov.uk/datasets/output-area-to-lower-layer-super-output-area-to-middle-layer-super-output-area-to-local-authority-district-december-2021-lookup-in-england-and-wales-v2-1/about\n",
    "\n",
    "Office for National Statistics (ONS). 2023d. Household deprivation in the education dimension. *Office for National Statistics*. [Online]. [Accessed 14 December 2023]. Available from: https://www.ons.gov.uk/filters/d7bede85-c97b-4b85-84a8-87b5164d3add/dimensions\n",
    "\n",
    "Office for National Statistics (ONS). 2023e. Household deprivation in the employment dimension. *Office for National Statistics*. [Online]. [Accessed 14 December 2023]. Available from: https://www.ons.gov.uk/filters/103a7748-96d9-4e79-97e2-e1cc42ef7024/dimensions\n",
    "\n",
    "Office for National Statistics (ONS). 2023f. Household deprivation in the health dimension. *Office for National Statistics*. [Online]. [Accessed 14 December 2023]. Available from: https://www.ons.gov.uk/filters/15149637-c729-4aa5-b817-d687cad093d8/dimensions\n",
    "\n",
    "Office for National Statistics (ONS). 2023g. Household deprivation in the housing dimension. *Office for National Statistics*. [Online]. [Accessed 14 December 2023]. Available from: https://www.ons.gov.uk/filters/cf7beddc-198f-411a-9b66-9c690d18e3bf/dimensions\n",
    "\n",
    "Ordnance Survey (OS). 2023. OS Open Greenspace. *Ordnance Survey*. [Online]. [Accessed 6 December 2023]. Available from: https://osdatahub.os.uk/downloads/open/OpenGreenspace"
   ]
  },
  {
   "cell_type": "markdown",
   "id": "8e31433b",
   "metadata": {},
   "source": [
    "<div style=\"color: #2F5496; text-decoration: underline; font-size: 18px; font-weight: bold;\">\n",
    "    Import libraries\n",
    "</div>"
   ]
  },
  {
   "cell_type": "code",
   "execution_count": 1,
   "id": "4541b2a7",
   "metadata": {},
   "outputs": [],
   "source": [
    "# Set number of threads to recommended 7 to avoid errors in code during visualisation phase\n",
    "import os\n",
    "os.environ[\"OMP_NUM_THREADS\"] = '7'"
   ]
  },
  {
   "cell_type": "code",
   "execution_count": 2,
   "id": "078a7275",
   "metadata": {},
   "outputs": [],
   "source": [
    "# Dataframe libraries\n",
    "import pandas as pd\n",
    "import geopandas as gpd"
   ]
  },
  {
   "cell_type": "markdown",
   "id": "4fba6b9a",
   "metadata": {},
   "source": [
    "<div style=\"color: #2F5496; text-decoration: underline; font-size: 18px; font-weight: bold;\">\n",
    "    Import each datafile\n",
    "</div>"
   ]
  },
  {
   "cell_type": "markdown",
   "id": "7a475334",
   "metadata": {},
   "source": [
    "<div style=\"color: #2F5496; font-size: 14px; font-weight: bold;\">\n",
    "    Output Areas (OAs)\n",
    "</div>"
   ]
  },
  {
   "cell_type": "markdown",
   "id": "99ef5225",
   "metadata": {},
   "source": [
    "OAs are the lowest census geography level, containing 40 to 250 households (ONS, 2021), enabling more accurate nearest greenspace measurements, and capturing localised differences in deprivation. Polygons and population weighted centroids (PWCs) are available from the ONS (2023a, 2023b). PWCs are used to measure distance to greenspace as it captures the nearest greenspace for most households. Polygons are aggregated to Bradford LAD level using the ONS (2023c) lookup. This is necessary to reduce the OA PWCs and greenspace to those within Bradford LAD."
   ]
  },
  {
   "cell_type": "code",
   "execution_count": 3,
   "id": "9d60f2eb",
   "metadata": {},
   "outputs": [],
   "source": [
    "# OA polygons (BFC: Full resolution - clipped to the coastline (Mean High Water mark)) (ONS, 2023a)\n",
    "OA_polygons = gpd.read_file('Raw data files/Output_Areas_2021_EW_BFC_V8/OA_2021_EW_BFC_V8.shp')\n",
    "\n",
    "# OA Population-weighted centroids (ONS, 2023b)\n",
    "OA_PWC = gpd.read_file('Raw data files/Output_Areas_2021_PWC_V3/PopCentroids_EW_2021_V3.shp')"
   ]
  },
  {
   "cell_type": "code",
   "execution_count": 4,
   "id": "5a9200ed",
   "metadata": {},
   "outputs": [
    {
     "name": "stderr",
     "output_type": "stream",
     "text": [
      "C:\\Users\\jessa\\AppData\\Local\\Temp\\ipykernel_33132\\3658327603.py:2: DtypeWarning: Columns (3,6,9) have mixed types. Specify dtype option on import or set low_memory=False.\n",
      "  OA_lookup = pd.read_csv('Raw data files/Output_Area_Lookup_in_England_and_Wales_v3.csv')\n"
     ]
    }
   ],
   "source": [
    "# OA to LSOA to MSOA to LAD lookup (ONS, 2023c)\n",
    "OA_lookup = pd.read_csv('Raw data files/Output_Area_Lookup_in_England_and_Wales_v3.csv')\n",
    "\n",
    "### Error can be ignored - it is because of Welsh spellings in a certain column.\n",
    "### This is not relevant to, nor will it affect, this study as these columns/rows will not be used."
   ]
  },
  {
   "cell_type": "markdown",
   "id": "5a01ea46",
   "metadata": {},
   "source": [
    "<div style=\"color: #2F5496; font-size: 14px; font-weight: bold;\">\n",
    "    Greenspace\n",
    "</div>"
   ]
  },
  {
   "cell_type": "markdown",
   "id": "6dfba5ec",
   "metadata": {},
   "source": [
    "Greenspace data (OS, 2023) include site (polygon) and access (point) data. However, not all sites have access data, hence only sites are used to ensure all eligible greenspace is captured. Distance from the PWC to nearest greenspace will be calculated using these polygons. Data includes parks, gardens, sports facilities, and religious grounds, but does not include forests, woodland, moorland or canal and river paths (OS, 2023)."
   ]
  },
  {
   "cell_type": "code",
   "execution_count": 5,
   "id": "8bd4f8a6",
   "metadata": {},
   "outputs": [],
   "source": [
    "# Greenspace site polygons (OS, 2023)\n",
    "GB_greenspace_site = gpd.read_file('Raw data files/OS Open Greenspace (ESRI Shape File) GB/data/GB_GreenspaceSite.shp')"
   ]
  },
  {
   "cell_type": "markdown",
   "id": "06e9ec7a",
   "metadata": {},
   "source": [
    "<div style=\"color: #2F5496; font-size: 14px; font-weight: bold;\">\n",
    "    Independent variables\n",
    "</div>"
   ]
  },
  {
   "cell_type": "markdown",
   "id": "0853d70d",
   "metadata": {},
   "source": [
    "Each deprivation dimension (education, employment, health and disability, and housing) can be obtained via custom ONS queries (ONS, 2023d; ONS, 2023e; ONS, 2023f; ONS, 2023g). These queries include only Bradford LAD OAs. Each file contains the number of households that are deprived or not deprived, from which percentage of households deprived in each dimension is calculated (Section 5.4.) creating the independent variables for regression modelling."
   ]
  },
  {
   "cell_type": "code",
   "execution_count": 6,
   "id": "09b0ed04",
   "metadata": {},
   "outputs": [],
   "source": [
    "# Data for Bradford OAs only, from 2021 Census\n",
    "\n",
    "# Household deprivation in the education dimension (ONS, 2023d)\n",
    "HHD_dep_education_raw = pd.read_csv('Raw data files/2021 Census Data/Household deprived in the education dimension.csv')\n",
    "\n",
    "# Household deprivation in the employment dimension (ONS, 2023e)\n",
    "HHD_dep_employment_raw = pd.read_csv('Raw data files/2021 Census Data/Household deprived in the employment dimension.csv')\n",
    "\n",
    "# Household deprivation in the health and disability dimension (ONS, 2023f)\n",
    "HHD_dep_health_raw = pd.read_csv('Raw data files/2021 Census Data/Household deprived in the health and disability dimension.csv')\n",
    "\n",
    "# Household deprivation in the housing dimension (ONS, 2023g)\n",
    "HHD_dep_housing_raw = pd.read_csv('Raw data files/2021 Census Data/Household deprived in the housing dimension.csv')"
   ]
  },
  {
   "cell_type": "markdown",
   "id": "42799520",
   "metadata": {},
   "source": [
    "<div style=\"color: #2F5496; text-decoration: underline; font-size: 20px; font-weight: bold;\">\n",
    "    Data wrangling\n",
    "</div>"
   ]
  },
  {
   "cell_type": "markdown",
   "id": "17910e03",
   "metadata": {},
   "source": [
    "<div style=\"color: #2F5496; text-decoration: underline; font-size: 18px; font-weight: bold;\">\n",
    "    OAs\n",
    "</div>"
   ]
  },
  {
   "cell_type": "markdown",
   "id": "c33a922e",
   "metadata": {},
   "source": [
    "Only Bradford LAD OAs are needed. The OA lookup and geometry dataframes can be merged, retaining only Bradford as identified by the LAD22NM column. There are 1,575 OAs within Bradford LAD."
   ]
  },
  {
   "cell_type": "code",
   "execution_count": 7,
   "id": "47a82ab0",
   "metadata": {},
   "outputs": [],
   "source": [
    "# Remove unnecessary columns from OA lookup, keeping only required columns in new dataframe\n",
    "OA_lookup_trim = OA_lookup[['OA21CD','LAD22CD','LAD22NM']]"
   ]
  },
  {
   "cell_type": "code",
   "execution_count": 8,
   "id": "de01e60e",
   "metadata": {},
   "outputs": [],
   "source": [
    "# Filter OA lookup to just Bradford\n",
    "Bradford_OA_lookup = OA_lookup_trim[OA_lookup_trim['LAD22NM'] == 'Bradford']"
   ]
  },
  {
   "cell_type": "code",
   "execution_count": 9,
   "id": "43f41079",
   "metadata": {},
   "outputs": [
    {
     "data": {
      "text/plain": [
       "1575"
      ]
     },
     "execution_count": 9,
     "metadata": {},
     "output_type": "execute_result"
    }
   ],
   "source": [
    "# Check how many OAs are left - this number is an important reference point for further data wrangling tasks\n",
    "len(Bradford_OA_lookup)"
   ]
  },
  {
   "cell_type": "code",
   "execution_count": 10,
   "id": "b206de09",
   "metadata": {},
   "outputs": [],
   "source": [
    "# Merge Bradford_OA_lookup with OA polygons to reduce the geodataframe containing the polygons to only Bradford OAs\n",
    "Bradford_OA_polygons = OA_polygons.merge(Bradford_OA_lookup, how='right', on='OA21CD')"
   ]
  },
  {
   "cell_type": "code",
   "execution_count": 11,
   "id": "a4ef75b1",
   "metadata": {},
   "outputs": [
    {
     "name": "stdout",
     "output_type": "stream",
     "text": [
      "1575\n",
      "True\n"
     ]
    }
   ],
   "source": [
    "# Check number of OAs is same as in the reduced Bradford OA lookup dataframe\n",
    "print(len(Bradford_OA_polygons))\n",
    "print(len(Bradford_OA_polygons) == len(Bradford_OA_lookup))"
   ]
  },
  {
   "cell_type": "code",
   "execution_count": 12,
   "id": "cdb5d9f0",
   "metadata": {},
   "outputs": [],
   "source": [
    "# Merge Bradford_OA_lookup with OA PWCs to reduce the geodataframe containing the PWCs to only Bradford OAs\n",
    "Bradford_OA_PWC = OA_PWC.merge(Bradford_OA_lookup, how='right', on='OA21CD')"
   ]
  },
  {
   "cell_type": "code",
   "execution_count": 13,
   "id": "42bd7cb2",
   "metadata": {},
   "outputs": [
    {
     "name": "stdout",
     "output_type": "stream",
     "text": [
      "1575\n",
      "True\n"
     ]
    }
   ],
   "source": [
    "# Check number of OAs is same as in the reduced Bradford OA lookup dataframe\n",
    "print(len(Bradford_OA_PWC))\n",
    "print(len(Bradford_OA_PWC) == len(Bradford_OA_lookup))"
   ]
  },
  {
   "cell_type": "code",
   "execution_count": 14,
   "id": "0581a231",
   "metadata": {},
   "outputs": [],
   "source": [
    "# Drop unrequired columns\n",
    "Bradford_OA_polygons_tidy = Bradford_OA_polygons.drop([\n",
    "    'LSOA21CD','LSOA21NM','LSOA21NMW','BNG_E','BNG_N','LAT','LONG','GlobalID','LAD22CD','LAD22NM'], axis=1)\n",
    "Bradford_OA_PWC_tidy = Bradford_OA_PWC.drop(['GlobalID','LAD22CD','LAD22NM'], axis=1)\n",
    "\n",
    "# Rename geometry columns and set geometry\n",
    "Bradford_OA_polygons = Bradford_OA_polygons_tidy.set_geometry('geometry').rename_geometry('Polygon')\n",
    "Bradford_OA_PWC = Bradford_OA_PWC_tidy.set_geometry('geometry').rename_geometry('PWC')"
   ]
  },
  {
   "cell_type": "markdown",
   "id": "fd63f22b",
   "metadata": {},
   "source": [
    "<div style=\"color: #2F5496; text-decoration: underline; font-size: 18px; font-weight: bold;\">\n",
    "    Greenspace\n",
    "</div>"
   ]
  },
  {
   "cell_type": "markdown",
   "id": "364e7b13",
   "metadata": {},
   "source": [
    "Only greenspace within Bradford LAD is required. A Bradford LAD polygon is created to spatially match the greenspace, retaining only sites within Bradford LAD."
   ]
  },
  {
   "cell_type": "markdown",
   "id": "c36a0804",
   "metadata": {},
   "source": [
    "<div style=\"color: #2F5496; font-size: 14px; font-weight: bold;\">\n",
    "    Clean greenspace dataframe\n",
    "</div>"
   ]
  },
  {
   "cell_type": "markdown",
   "id": "02723a87",
   "metadata": {},
   "source": [
    "Some types of greenspaces are arguably not for recreation (e.g. cemetery) and some are not always free to the public (e.g. golf course). To ensure this analysis includes only freely accessible greenspace for recreational use, types are reduced to 'play space', 'playing field' and 'public park or garden'."
   ]
  },
  {
   "cell_type": "code",
   "execution_count": 15,
   "id": "4b452227",
   "metadata": {},
   "outputs": [],
   "source": [
    "# Remove unnecessary columns, keeping only required columns in new dataframe\n",
    "GB_greenspace_site_trim = GB_greenspace_site[['id','function','geometry']]\n",
    "\n",
    "# Rename remaining columns for clarity\n",
    "GB_greenspace_site_trim = GB_greenspace_site_trim.rename(columns={\"id\": \"Greenspace_ID\", \"function\": \"Type\"})\n",
    "GB_greenspace_site_trim = GB_greenspace_site_trim.set_geometry('geometry').rename_geometry('Polygon')"
   ]
  },
  {
   "cell_type": "code",
   "execution_count": 16,
   "id": "84b86092",
   "metadata": {},
   "outputs": [
    {
     "data": {
      "text/plain": [
       "Type\n",
       "Play Space                                42972\n",
       "Religious Grounds                         22229\n",
       "Playing Field                             21377\n",
       "Other Sports Facility                     15073\n",
       "Allotments Or Community Growing Spaces    13002\n",
       "Public Park Or Garden                     11982\n",
       "Cemetery                                   7559\n",
       "Tennis Court                               6632\n",
       "Bowling Green                              6589\n",
       "Golf Course                                3000\n",
       "Name: count, dtype: int64"
      ]
     },
     "execution_count": 16,
     "metadata": {},
     "output_type": "execute_result"
    }
   ],
   "source": [
    "# Check what types are included in the data\n",
    "GB_greenspace_site_trim.Type.value_counts()"
   ]
  },
  {
   "cell_type": "code",
   "execution_count": 17,
   "id": "d1907888",
   "metadata": {},
   "outputs": [],
   "source": [
    "# Keep only 'Play Space', 'Playing Field', and 'Public Park Or Garden'\n",
    "GB_greenspace_site_filtered = GB_greenspace_site_trim.loc[GB_greenspace_site_trim['Type'].\n",
    "                                                          isin(['Play Space','Playing Field','Public Park Or Garden'])]"
   ]
  },
  {
   "cell_type": "markdown",
   "id": "d377b7d2",
   "metadata": {},
   "source": [
    "<div style=\"color: #2F5496; font-size: 14px; font-weight: bold;\">\n",
    "    Greenspace within Bradford LAD\n",
    "</div>"
   ]
  },
  {
   "cell_type": "markdown",
   "id": "f49acd12",
   "metadata": {},
   "source": [
    "Aggregating OA polygons to a single polygon and spatially matching to the greenspace dataframe isolates greenspace within Bradford LAD. This will be used to calculate the dependent variable for the regression analysis."
   ]
  },
  {
   "cell_type": "code",
   "execution_count": 18,
   "id": "fb430b4c",
   "metadata": {},
   "outputs": [],
   "source": [
    "# Create a copy of the Bradford_OA_polygons dataframe which will become the Bradford polygon dataframe\n",
    "Bradford = Bradford_OA_polygons\n",
    "# Add a 'Bradford' dummy column to aggregate on\n",
    "Bradford['City'] = 'Bradford'"
   ]
  },
  {
   "cell_type": "code",
   "execution_count": 19,
   "id": "bb3e399f",
   "metadata": {},
   "outputs": [],
   "source": [
    "# Create a single polygon aggregated to the city level using 'dissolve'\n",
    "Bradford_polygon = Bradford.dissolve(by='City')"
   ]
  },
  {
   "cell_type": "code",
   "execution_count": 20,
   "id": "ab814c70",
   "metadata": {},
   "outputs": [],
   "source": [
    "# Drop OA21CD column as this is no longer relevant\n",
    "Bradford_polygon = Bradford_polygon.drop(['OA21CD'], axis=1)"
   ]
  },
  {
   "cell_type": "code",
   "execution_count": 21,
   "id": "af7272d7",
   "metadata": {},
   "outputs": [],
   "source": [
    "# Spatial join for any greenspace that intersects the Bradford polygon\n",
    "Bradford_greenspace_site = gpd.sjoin(GB_greenspace_site_filtered, Bradford_polygon, how='inner', predicate='intersects')"
   ]
  },
  {
   "cell_type": "code",
   "execution_count": 22,
   "id": "9201d9b8",
   "metadata": {},
   "outputs": [],
   "source": [
    "# Drop index_right column as this is no longer relevant\n",
    "Bradford_greenspace_site = Bradford_greenspace_site.drop(['index_right'], axis=1)"
   ]
  },
  {
   "cell_type": "code",
   "execution_count": 23,
   "id": "27b58f91",
   "metadata": {},
   "outputs": [
    {
     "data": {
      "text/plain": [
       "436"
      ]
     },
     "execution_count": 23,
     "metadata": {},
     "output_type": "execute_result"
    }
   ],
   "source": [
    "# Check length of dataframe to determine how many greenspaces are included\n",
    "len(Bradford_greenspace_site)"
   ]
  },
  {
   "cell_type": "code",
   "execution_count": 24,
   "id": "415794cb",
   "metadata": {},
   "outputs": [
    {
     "name": "stdout",
     "output_type": "stream",
     "text": [
      "436\n",
      "True\n"
     ]
    }
   ],
   "source": [
    "# Check that the unique number of Greenspace_IDs is in fact the length of the dataframe\n",
    "print(Bradford_greenspace_site['Greenspace_ID'].nunique())\n",
    "print(len(Bradford_greenspace_site) == Bradford_greenspace_site['Greenspace_ID'].nunique())"
   ]
  },
  {
   "cell_type": "markdown",
   "id": "8a32803b",
   "metadata": {},
   "source": [
    "<div style=\"color: #2F5496; text-decoration: underline; font-size: 18px; font-weight: bold;\">\n",
    "    Dependent variable\n",
    "</div>"
   ]
  },
  {
   "cell_type": "markdown",
   "id": "2e6fae67",
   "metadata": {},
   "source": [
    "The dependent variable is the distance between the OA PWC and nearest greenspace polygon calculated using the Euclidian distance and given in metres."
   ]
  },
  {
   "cell_type": "code",
   "execution_count": 25,
   "id": "9e348ca4",
   "metadata": {},
   "outputs": [],
   "source": [
    "# Find the nearest greenspace to each OA population-weighted centroid\n",
    "nearest_greenspace = gpd.sjoin_nearest(\n",
    "    Bradford_OA_PWC, Bradford_greenspace_site, how='left', distance_col='Distance')\n",
    "\n",
    "# Drop the unrequired columns\n",
    "nearest_greenspace = nearest_greenspace.drop(['PWC','index_right'], axis=1)"
   ]
  },
  {
   "cell_type": "code",
   "execution_count": 26,
   "id": "e822aea4",
   "metadata": {},
   "outputs": [
    {
     "name": "stdout",
     "output_type": "stream",
     "text": [
      "1599\n",
      "False\n"
     ]
    }
   ],
   "source": [
    "# Check length of dataframe is equal to the length of the OA dataframe - i.e. one greenspace per OA has been identified\n",
    "print(len(nearest_greenspace))\n",
    "print(len(nearest_greenspace) == len(Bradford_OA_lookup))"
   ]
  },
  {
   "cell_type": "markdown",
   "id": "af1c1bbb",
   "metadata": {},
   "source": [
    "The information above shows there are some duplicated rows. This is confirmed by checking the number of unique OA21CDs which should be 1,575."
   ]
  },
  {
   "cell_type": "code",
   "execution_count": 27,
   "id": "a48df1a7",
   "metadata": {},
   "outputs": [
    {
     "name": "stdout",
     "output_type": "stream",
     "text": [
      "1575\n",
      "True\n"
     ]
    }
   ],
   "source": [
    "# Check number of OA21CDs\n",
    "print(nearest_greenspace['OA21CD'].nunique())\n",
    "print(nearest_greenspace['OA21CD'].nunique() == len(Bradford_OA_lookup))"
   ]
  },
  {
   "cell_type": "markdown",
   "id": "0e7f5e5a",
   "metadata": {},
   "source": [
    "Duplicates are caused by the same greenspace being allocated different 'Types' with unique IDs. These duplicates are removed, keeping the first record irrespective of 'Type' as no analysis is to be conducted on this."
   ]
  },
  {
   "cell_type": "code",
   "execution_count": 28,
   "id": "816b9e27",
   "metadata": {},
   "outputs": [
    {
     "data": {
      "text/html": [
       "<div>\n",
       "<style scoped>\n",
       "    .dataframe tbody tr th:only-of-type {\n",
       "        vertical-align: middle;\n",
       "    }\n",
       "\n",
       "    .dataframe tbody tr th {\n",
       "        vertical-align: top;\n",
       "    }\n",
       "\n",
       "    .dataframe thead th {\n",
       "        text-align: right;\n",
       "    }\n",
       "</style>\n",
       "<table border=\"1\" class=\"dataframe\">\n",
       "  <thead>\n",
       "    <tr style=\"text-align: right;\">\n",
       "      <th></th>\n",
       "      <th>OA21CD</th>\n",
       "      <th>Greenspace_ID</th>\n",
       "      <th>Type</th>\n",
       "      <th>Distance</th>\n",
       "    </tr>\n",
       "  </thead>\n",
       "  <tbody>\n",
       "    <tr>\n",
       "      <th>11</th>\n",
       "      <td>E00053364</td>\n",
       "      <td>0295ED18-F337-5C37-E063-AAEFA00A445E</td>\n",
       "      <td>Play Space</td>\n",
       "      <td>514.057891</td>\n",
       "    </tr>\n",
       "    <tr>\n",
       "      <th>11</th>\n",
       "      <td>E00053364</td>\n",
       "      <td>0295ED18-F2F3-5C37-E063-AAEFA00A445E</td>\n",
       "      <td>Playing Field</td>\n",
       "      <td>514.057891</td>\n",
       "    </tr>\n",
       "    <tr>\n",
       "      <th>42</th>\n",
       "      <td>E00053392</td>\n",
       "      <td>0295ED18-F337-5C37-E063-AAEFA00A445E</td>\n",
       "      <td>Play Space</td>\n",
       "      <td>364.166159</td>\n",
       "    </tr>\n",
       "    <tr>\n",
       "      <th>42</th>\n",
       "      <td>E00053392</td>\n",
       "      <td>0295ED18-F2F3-5C37-E063-AAEFA00A445E</td>\n",
       "      <td>Playing Field</td>\n",
       "      <td>364.166159</td>\n",
       "    </tr>\n",
       "    <tr>\n",
       "      <th>43</th>\n",
       "      <td>E00053393</td>\n",
       "      <td>0295ED18-F337-5C37-E063-AAEFA00A445E</td>\n",
       "      <td>Play Space</td>\n",
       "      <td>571.723915</td>\n",
       "    </tr>\n",
       "    <tr>\n",
       "      <th>43</th>\n",
       "      <td>E00053393</td>\n",
       "      <td>0295ED18-F2F3-5C37-E063-AAEFA00A445E</td>\n",
       "      <td>Playing Field</td>\n",
       "      <td>571.723915</td>\n",
       "    </tr>\n",
       "  </tbody>\n",
       "</table>\n",
       "</div>"
      ],
      "text/plain": [
       "       OA21CD                         Greenspace_ID           Type    Distance\n",
       "11  E00053364  0295ED18-F337-5C37-E063-AAEFA00A445E     Play Space  514.057891\n",
       "11  E00053364  0295ED18-F2F3-5C37-E063-AAEFA00A445E  Playing Field  514.057891\n",
       "42  E00053392  0295ED18-F337-5C37-E063-AAEFA00A445E     Play Space  364.166159\n",
       "42  E00053392  0295ED18-F2F3-5C37-E063-AAEFA00A445E  Playing Field  364.166159\n",
       "43  E00053393  0295ED18-F337-5C37-E063-AAEFA00A445E     Play Space  571.723915\n",
       "43  E00053393  0295ED18-F2F3-5C37-E063-AAEFA00A445E  Playing Field  571.723915"
      ]
     },
     "execution_count": 28,
     "metadata": {},
     "output_type": "execute_result"
    }
   ],
   "source": [
    "# Isolate duplicated rows and check cause\n",
    "# Confirmed as duplicated sites with different Greenspace_IDs due to different greenspace Type being recorded\n",
    "duplicated_rows = nearest_greenspace[nearest_greenspace.duplicated(subset='OA21CD', keep=False)]\n",
    "duplicated_rows.head(6)"
   ]
  },
  {
   "cell_type": "code",
   "execution_count": 29,
   "id": "5776ac45",
   "metadata": {},
   "outputs": [],
   "source": [
    "# Drop duplicated rows and keep first row for duplicated instances\n",
    "unique_nearest_greenspace = nearest_greenspace.drop_duplicates(subset='OA21CD', keep='first')"
   ]
  },
  {
   "cell_type": "code",
   "execution_count": 30,
   "id": "a9bc4298",
   "metadata": {},
   "outputs": [
    {
     "name": "stdout",
     "output_type": "stream",
     "text": [
      "1575\n",
      "True\n"
     ]
    }
   ],
   "source": [
    "# Check length of dataframe is now as expected\n",
    "print(len(unique_nearest_greenspace))\n",
    "print(len(unique_nearest_greenspace) == len(Bradford_OA_lookup))"
   ]
  },
  {
   "cell_type": "markdown",
   "id": "df0ad6b5",
   "metadata": {},
   "source": [
    "The 'Bradford_greenspace_site' dataframe must also be updated to ensure a consistent view of greenspace."
   ]
  },
  {
   "cell_type": "code",
   "execution_count": 31,
   "id": "b1304454",
   "metadata": {},
   "outputs": [],
   "source": [
    "# Get unique list of Greenspace_IDs\n",
    "unique_Greenspace_IDs = unique_nearest_greenspace[['Greenspace_ID']].drop_duplicates()"
   ]
  },
  {
   "cell_type": "code",
   "execution_count": 32,
   "id": "fcdfe32b",
   "metadata": {},
   "outputs": [],
   "source": [
    "# Join onto Bradford_greenspace_site to reduce this dataframe to just those kept in the unique_nearest_greenspace dataframe\n",
    "Bradford_greenspace_site_unique = Bradford_greenspace_site.merge(unique_Greenspace_IDs, how='right', on='Greenspace_ID')"
   ]
  },
  {
   "cell_type": "markdown",
   "id": "a9610f4c",
   "metadata": {},
   "source": [
    "<div style=\"color: #2F5496; text-decoration: underline; font-size: 18px; font-weight: bold;\">\n",
    "    Independent variables\n",
    "</div>"
   ]
  },
  {
   "cell_type": "markdown",
   "id": "644191bd",
   "metadata": {},
   "source": [
    "Deprivation data needs to be pivoted to create columns of the datapoints by OA and converting these into percentages. This is achieved using a function to repeat the process for each dimension. Resulting dataframes are merged into a final dataframe containing all four independent variables."
   ]
  },
  {
   "cell_type": "code",
   "execution_count": 33,
   "id": "b305d7ca",
   "metadata": {},
   "outputs": [],
   "source": [
    "def Independent_Variables_Setup(dataframe, dataframe_name):     # dataframe as object, dataframe_name as string\n",
    "    \n",
    "    # Create all required strings for naming dataframes throughout wrangling process\n",
    "    core_name = dataframe_name.rstrip('_raw') # Remove \"_raw\" from end of dataframe to get core name\n",
    "    dropped = core_name + '_dropped'          # Add \"_dropped\" to end of core name\n",
    "    pivot = core_name + '_pivot'              # Add \"_pivot\" to end of core name\n",
    "    percentage = core_name + '_PC'            # Add \"_PC\" to end of core name\n",
    "    \n",
    "    # Drop columns that are not required\n",
    "    cols = [1,3]     # List of column indexes of the columns to drop\n",
    "    dropped = dataframe.drop(dataframe.columns[cols], axis=1)     # Create new dataframe with columns dropped\n",
    "    \n",
    "    # Pivot the table on column[0], making the options from column[1] the new column headers and the data that from column[2]\n",
    "    pivot = dropped.pivot_table(index=dropped.columns[0],\n",
    "                                  columns=dropped.columns[1],\n",
    "                                  values=dropped.columns[2]).reset_index()\n",
    "    pivot.columns.name = None\n",
    "    \n",
    "    # Create a Total column from 3 new data columns[1,2,3]\n",
    "    pivot['Total'] = pivot.iloc[:, 1:4].sum(axis=1)\n",
    "    \n",
    "    # Calculate % HHDs Deprived by dividing column[3] \"Deprived\" by the Total calculated above\n",
    "    pivot[percentage] = (pivot.iloc[:,3]/pivot['Total'])\n",
    "    \n",
    "    # Create final dataframe keeping only the OA21CD and % HHDs deprived in the given dimension\n",
    "    final_cols = [0,5]\n",
    "    core_name = pivot.iloc[:, final_cols]\n",
    "    \n",
    "    return core_name"
   ]
  },
  {
   "cell_type": "code",
   "execution_count": 34,
   "id": "90c9807e",
   "metadata": {},
   "outputs": [],
   "source": [
    "# Household deprivation in the education dimension\n",
    "HHD_dep_education = Independent_Variables_Setup(HHD_dep_education_raw, 'HHD_dep_education_raw')"
   ]
  },
  {
   "cell_type": "code",
   "execution_count": 35,
   "id": "f87bc115",
   "metadata": {},
   "outputs": [],
   "source": [
    "# Household deprivation in the employment dimension\n",
    "HHD_dep_employment = Independent_Variables_Setup(HHD_dep_employment_raw, 'HHD_dep_employment_raw')"
   ]
  },
  {
   "cell_type": "code",
   "execution_count": 36,
   "id": "ea3284cc",
   "metadata": {},
   "outputs": [],
   "source": [
    "# Household deprivation in the health and disability dimension\n",
    "HHD_dep_health = Independent_Variables_Setup(HHD_dep_health_raw, 'HHD_dep_health_raw')"
   ]
  },
  {
   "cell_type": "code",
   "execution_count": 37,
   "id": "d9709d0d",
   "metadata": {},
   "outputs": [],
   "source": [
    "# Household deprivation in the housing dimension\n",
    "HHD_dep_housing = Independent_Variables_Setup(HHD_dep_housing_raw, 'HHD_dep_housing_raw')"
   ]
  },
  {
   "cell_type": "code",
   "execution_count": 38,
   "id": "b4bd879d",
   "metadata": {},
   "outputs": [
    {
     "data": {
      "text/plain": [
       "True"
      ]
     },
     "execution_count": 38,
     "metadata": {},
     "output_type": "execute_result"
    }
   ],
   "source": [
    "# Check all 4 dataframes are the same length and that length is as expected\n",
    "len(HHD_dep_education) == len(HHD_dep_employment) == len(HHD_dep_health) == len(HHD_dep_housing) == len(Bradford_OA_lookup)"
   ]
  },
  {
   "cell_type": "code",
   "execution_count": 39,
   "id": "4ddcb430",
   "metadata": {},
   "outputs": [],
   "source": [
    "# Merge education and employment\n",
    "Ind_vars = HHD_dep_education.merge(HHD_dep_employment, how='inner', on='Output Areas Code')\n",
    "# Add health\n",
    "Ind_vars = Ind_vars.merge(HHD_dep_health, how='inner', on='Output Areas Code')\n",
    "# Add housing\n",
    "Ind_vars = Ind_vars.merge(HHD_dep_housing, how='inner', on='Output Areas Code')"
   ]
  },
  {
   "cell_type": "code",
   "execution_count": 40,
   "id": "c3613187",
   "metadata": {},
   "outputs": [
    {
     "name": "stdout",
     "output_type": "stream",
     "text": [
      "1575\n",
      "True\n"
     ]
    }
   ],
   "source": [
    "# Final length check\n",
    "print(len(Ind_vars))\n",
    "print(len(Ind_vars) == len(Bradford_OA_lookup))"
   ]
  },
  {
   "cell_type": "markdown",
   "id": "ebc738c7",
   "metadata": {},
   "source": [
    "<div style=\"color: #2F5496; text-decoration: underline; font-size: 18px; font-weight: bold;\">\n",
    "    Final dataframe for regression analysis\n",
    "</div>"
   ]
  },
  {
   "cell_type": "markdown",
   "id": "bf9b857d",
   "metadata": {},
   "source": [
    "A dataframe containing the dependent and independent variables, OA code and polygons is required for the regression models and spatial analysis."
   ]
  },
  {
   "cell_type": "code",
   "execution_count": 41,
   "id": "79146b0f",
   "metadata": {},
   "outputs": [],
   "source": [
    "# Merge the unique_nearest_greenspace and Ind_vars dataframes to get a final dataframe for subsequent analysis\n",
    "final_df = unique_nearest_greenspace.merge(Ind_vars, how='inner', left_on='OA21CD', right_on='Output Areas Code')\n",
    "final_df = final_df.merge(Bradford_OA_polygons, how='inner', on='OA21CD')\n",
    "\n",
    "# Drop unrequired columns\n",
    "final_df = final_df.drop(['Output Areas Code', 'Greenspace_ID', 'Type', 'City'], axis=1)\n",
    "\n",
    "# Set geometry\n",
    "final_df = final_df.set_geometry('Polygon')"
   ]
  },
  {
   "cell_type": "markdown",
   "id": "25f750fa",
   "metadata": {},
   "source": [
    "<div style=\"color: #2F5496; text-decoration: underline; font-size: 18px; font-weight: bold;\">\n",
    "    Export dataframes\n",
    "</div>"
   ]
  },
  {
   "cell_type": "markdown",
   "id": "73d893cc",
   "metadata": {},
   "source": [
    "Visual checks of each dataframe and export as GeoJSON or csv as appropriate."
   ]
  },
  {
   "cell_type": "markdown",
   "id": "48475da8",
   "metadata": {},
   "source": [
    "#### Bradford OA polygons dataframe"
   ]
  },
  {
   "cell_type": "code",
   "execution_count": 42,
   "id": "4a8f52d2",
   "metadata": {},
   "outputs": [
    {
     "data": {
      "text/html": [
       "<div>\n",
       "<style scoped>\n",
       "    .dataframe tbody tr th:only-of-type {\n",
       "        vertical-align: middle;\n",
       "    }\n",
       "\n",
       "    .dataframe tbody tr th {\n",
       "        vertical-align: top;\n",
       "    }\n",
       "\n",
       "    .dataframe thead th {\n",
       "        text-align: right;\n",
       "    }\n",
       "</style>\n",
       "<table border=\"1\" class=\"dataframe\">\n",
       "  <thead>\n",
       "    <tr style=\"text-align: right;\">\n",
       "      <th></th>\n",
       "      <th>OA21CD</th>\n",
       "      <th>Polygon</th>\n",
       "      <th>City</th>\n",
       "    </tr>\n",
       "  </thead>\n",
       "  <tbody>\n",
       "    <tr>\n",
       "      <th>0</th>\n",
       "      <td>E00053353</td>\n",
       "      <td>POLYGON ((415817.093 440872.597, 415821.094 44...</td>\n",
       "      <td>Bradford</td>\n",
       "    </tr>\n",
       "    <tr>\n",
       "      <th>1</th>\n",
       "      <td>E00053354</td>\n",
       "      <td>POLYGON ((415078.000 439967.001, 415058.323 43...</td>\n",
       "      <td>Bradford</td>\n",
       "    </tr>\n",
       "    <tr>\n",
       "      <th>2</th>\n",
       "      <td>E00053355</td>\n",
       "      <td>POLYGON ((416252.367 439816.041, 416253.270 43...</td>\n",
       "      <td>Bradford</td>\n",
       "    </tr>\n",
       "    <tr>\n",
       "      <th>3</th>\n",
       "      <td>E00053356</td>\n",
       "      <td>POLYGON ((416668.000 439392.028, 416667.653 43...</td>\n",
       "      <td>Bradford</td>\n",
       "    </tr>\n",
       "    <tr>\n",
       "      <th>4</th>\n",
       "      <td>E00053357</td>\n",
       "      <td>POLYGON ((415143.909 439176.235, 415143.000 43...</td>\n",
       "      <td>Bradford</td>\n",
       "    </tr>\n",
       "  </tbody>\n",
       "</table>\n",
       "</div>"
      ],
      "text/plain": [
       "      OA21CD                                            Polygon      City\n",
       "0  E00053353  POLYGON ((415817.093 440872.597, 415821.094 44...  Bradford\n",
       "1  E00053354  POLYGON ((415078.000 439967.001, 415058.323 43...  Bradford\n",
       "2  E00053355  POLYGON ((416252.367 439816.041, 416253.270 43...  Bradford\n",
       "3  E00053356  POLYGON ((416668.000 439392.028, 416667.653 43...  Bradford\n",
       "4  E00053357  POLYGON ((415143.909 439176.235, 415143.000 43...  Bradford"
      ]
     },
     "execution_count": 42,
     "metadata": {},
     "output_type": "execute_result"
    }
   ],
   "source": [
    "Bradford_OA_polygons.head()"
   ]
  },
  {
   "cell_type": "code",
   "execution_count": 43,
   "id": "06e64c11",
   "metadata": {},
   "outputs": [],
   "source": [
    "Bradford_OA_polygons.to_file('Wrangled dataframes/Bradford_OA_polygons.geojson', driver='GeoJSON')"
   ]
  },
  {
   "cell_type": "markdown",
   "id": "071546d8",
   "metadata": {},
   "source": [
    "#### Bradford OA population weighted centroids dataframe"
   ]
  },
  {
   "cell_type": "code",
   "execution_count": 44,
   "id": "c1ec3e1a",
   "metadata": {},
   "outputs": [
    {
     "data": {
      "text/html": [
       "<div>\n",
       "<style scoped>\n",
       "    .dataframe tbody tr th:only-of-type {\n",
       "        vertical-align: middle;\n",
       "    }\n",
       "\n",
       "    .dataframe tbody tr th {\n",
       "        vertical-align: top;\n",
       "    }\n",
       "\n",
       "    .dataframe thead th {\n",
       "        text-align: right;\n",
       "    }\n",
       "</style>\n",
       "<table border=\"1\" class=\"dataframe\">\n",
       "  <thead>\n",
       "    <tr style=\"text-align: right;\">\n",
       "      <th></th>\n",
       "      <th>OA21CD</th>\n",
       "      <th>PWC</th>\n",
       "    </tr>\n",
       "  </thead>\n",
       "  <tbody>\n",
       "    <tr>\n",
       "      <th>0</th>\n",
       "      <td>E00053353</td>\n",
       "      <td>POINT (413638.052 439495.615)</td>\n",
       "    </tr>\n",
       "    <tr>\n",
       "      <th>1</th>\n",
       "      <td>E00053354</td>\n",
       "      <td>POINT (414837.013 439813.246)</td>\n",
       "    </tr>\n",
       "    <tr>\n",
       "      <th>2</th>\n",
       "      <td>E00053355</td>\n",
       "      <td>POINT (416162.559 439674.009)</td>\n",
       "    </tr>\n",
       "    <tr>\n",
       "      <th>3</th>\n",
       "      <td>E00053356</td>\n",
       "      <td>POINT (416591.137 439417.227)</td>\n",
       "    </tr>\n",
       "    <tr>\n",
       "      <th>4</th>\n",
       "      <td>E00053357</td>\n",
       "      <td>POINT (414671.681 439110.823)</td>\n",
       "    </tr>\n",
       "  </tbody>\n",
       "</table>\n",
       "</div>"
      ],
      "text/plain": [
       "      OA21CD                            PWC\n",
       "0  E00053353  POINT (413638.052 439495.615)\n",
       "1  E00053354  POINT (414837.013 439813.246)\n",
       "2  E00053355  POINT (416162.559 439674.009)\n",
       "3  E00053356  POINT (416591.137 439417.227)\n",
       "4  E00053357  POINT (414671.681 439110.823)"
      ]
     },
     "execution_count": 44,
     "metadata": {},
     "output_type": "execute_result"
    }
   ],
   "source": [
    "Bradford_OA_PWC.head()"
   ]
  },
  {
   "cell_type": "code",
   "execution_count": 45,
   "id": "6a7b6484",
   "metadata": {},
   "outputs": [],
   "source": [
    "Bradford_OA_PWC.to_file('Wrangled dataframes/Bradford_OA_PWC.geojson', driver='GeoJSON')"
   ]
  },
  {
   "cell_type": "markdown",
   "id": "7adfce85",
   "metadata": {},
   "source": [
    "#### Bradford greenspace polygons (unique list)"
   ]
  },
  {
   "cell_type": "code",
   "execution_count": 46,
   "id": "06e0b413",
   "metadata": {},
   "outputs": [
    {
     "data": {
      "text/html": [
       "<div>\n",
       "<style scoped>\n",
       "    .dataframe tbody tr th:only-of-type {\n",
       "        vertical-align: middle;\n",
       "    }\n",
       "\n",
       "    .dataframe tbody tr th {\n",
       "        vertical-align: top;\n",
       "    }\n",
       "\n",
       "    .dataframe thead th {\n",
       "        text-align: right;\n",
       "    }\n",
       "</style>\n",
       "<table border=\"1\" class=\"dataframe\">\n",
       "  <thead>\n",
       "    <tr style=\"text-align: right;\">\n",
       "      <th></th>\n",
       "      <th>Greenspace_ID</th>\n",
       "      <th>Type</th>\n",
       "      <th>Polygon</th>\n",
       "    </tr>\n",
       "  </thead>\n",
       "  <tbody>\n",
       "    <tr>\n",
       "      <th>0</th>\n",
       "      <td>0295ED18-D538-5C37-E063-AAEFA00A445E</td>\n",
       "      <td>Playing Field</td>\n",
       "      <td>POLYGON Z ((414018.070 438415.690 0.000, 41399...</td>\n",
       "    </tr>\n",
       "    <tr>\n",
       "      <th>1</th>\n",
       "      <td>0295ED18-E5D4-5C37-E063-AAEFA00A445E</td>\n",
       "      <td>Playing Field</td>\n",
       "      <td>POLYGON Z ((415193.700 439129.550 0.000, 41519...</td>\n",
       "    </tr>\n",
       "    <tr>\n",
       "      <th>2</th>\n",
       "      <td>0295ED18-F2F3-5C37-E063-AAEFA00A445E</td>\n",
       "      <td>Playing Field</td>\n",
       "      <td>POLYGON Z ((415690.440 439919.060 0.000, 41568...</td>\n",
       "    </tr>\n",
       "    <tr>\n",
       "      <th>3</th>\n",
       "      <td>0295ECC9-0C25-5C37-E063-AAEFA00A445E</td>\n",
       "      <td>Play Space</td>\n",
       "      <td>POLYGON Z ((416739.570 439592.210 0.000, 41675...</td>\n",
       "    </tr>\n",
       "    <tr>\n",
       "      <th>4</th>\n",
       "      <td>0295ECC7-FBFC-5C37-E063-AAEFA00A445E</td>\n",
       "      <td>Play Space</td>\n",
       "      <td>POLYGON Z ((415991.960 438808.610 0.000, 41598...</td>\n",
       "    </tr>\n",
       "  </tbody>\n",
       "</table>\n",
       "</div>"
      ],
      "text/plain": [
       "                          Greenspace_ID           Type  \\\n",
       "0  0295ED18-D538-5C37-E063-AAEFA00A445E  Playing Field   \n",
       "1  0295ED18-E5D4-5C37-E063-AAEFA00A445E  Playing Field   \n",
       "2  0295ED18-F2F3-5C37-E063-AAEFA00A445E  Playing Field   \n",
       "3  0295ECC9-0C25-5C37-E063-AAEFA00A445E     Play Space   \n",
       "4  0295ECC7-FBFC-5C37-E063-AAEFA00A445E     Play Space   \n",
       "\n",
       "                                             Polygon  \n",
       "0  POLYGON Z ((414018.070 438415.690 0.000, 41399...  \n",
       "1  POLYGON Z ((415193.700 439129.550 0.000, 41519...  \n",
       "2  POLYGON Z ((415690.440 439919.060 0.000, 41568...  \n",
       "3  POLYGON Z ((416739.570 439592.210 0.000, 41675...  \n",
       "4  POLYGON Z ((415991.960 438808.610 0.000, 41598...  "
      ]
     },
     "execution_count": 46,
     "metadata": {},
     "output_type": "execute_result"
    }
   ],
   "source": [
    "Bradford_greenspace_site_unique.head()"
   ]
  },
  {
   "cell_type": "code",
   "execution_count": 47,
   "id": "26c58898",
   "metadata": {},
   "outputs": [],
   "source": [
    "Bradford_greenspace_site_unique.to_file('Wrangled dataframes/Bradford_greenspace_site_unique.geojson', driver='GeoJSON')"
   ]
  },
  {
   "cell_type": "markdown",
   "id": "fffb3435",
   "metadata": {},
   "source": [
    "#### Nearest greenspace to each OA (unique list)"
   ]
  },
  {
   "cell_type": "code",
   "execution_count": 48,
   "id": "16b4d35e",
   "metadata": {},
   "outputs": [
    {
     "data": {
      "text/html": [
       "<div>\n",
       "<style scoped>\n",
       "    .dataframe tbody tr th:only-of-type {\n",
       "        vertical-align: middle;\n",
       "    }\n",
       "\n",
       "    .dataframe tbody tr th {\n",
       "        vertical-align: top;\n",
       "    }\n",
       "\n",
       "    .dataframe thead th {\n",
       "        text-align: right;\n",
       "    }\n",
       "</style>\n",
       "<table border=\"1\" class=\"dataframe\">\n",
       "  <thead>\n",
       "    <tr style=\"text-align: right;\">\n",
       "      <th></th>\n",
       "      <th>OA21CD</th>\n",
       "      <th>Greenspace_ID</th>\n",
       "      <th>Type</th>\n",
       "      <th>Distance</th>\n",
       "    </tr>\n",
       "  </thead>\n",
       "  <tbody>\n",
       "    <tr>\n",
       "      <th>0</th>\n",
       "      <td>E00053353</td>\n",
       "      <td>0295ED18-D538-5C37-E063-AAEFA00A445E</td>\n",
       "      <td>Playing Field</td>\n",
       "      <td>1000.455806</td>\n",
       "    </tr>\n",
       "    <tr>\n",
       "      <th>1</th>\n",
       "      <td>E00053354</td>\n",
       "      <td>0295ED18-E5D4-5C37-E063-AAEFA00A445E</td>\n",
       "      <td>Playing Field</td>\n",
       "      <td>771.145845</td>\n",
       "    </tr>\n",
       "    <tr>\n",
       "      <th>2</th>\n",
       "      <td>E00053355</td>\n",
       "      <td>0295ED18-F2F3-5C37-E063-AAEFA00A445E</td>\n",
       "      <td>Playing Field</td>\n",
       "      <td>418.265674</td>\n",
       "    </tr>\n",
       "    <tr>\n",
       "      <th>3</th>\n",
       "      <td>E00053356</td>\n",
       "      <td>0295ECC9-0C25-5C37-E063-AAEFA00A445E</td>\n",
       "      <td>Play Space</td>\n",
       "      <td>194.292561</td>\n",
       "    </tr>\n",
       "    <tr>\n",
       "      <th>4</th>\n",
       "      <td>E00053357</td>\n",
       "      <td>0295ED18-E5D4-5C37-E063-AAEFA00A445E</td>\n",
       "      <td>Playing Field</td>\n",
       "      <td>432.352481</td>\n",
       "    </tr>\n",
       "  </tbody>\n",
       "</table>\n",
       "</div>"
      ],
      "text/plain": [
       "      OA21CD                         Greenspace_ID           Type     Distance\n",
       "0  E00053353  0295ED18-D538-5C37-E063-AAEFA00A445E  Playing Field  1000.455806\n",
       "1  E00053354  0295ED18-E5D4-5C37-E063-AAEFA00A445E  Playing Field   771.145845\n",
       "2  E00053355  0295ED18-F2F3-5C37-E063-AAEFA00A445E  Playing Field   418.265674\n",
       "3  E00053356  0295ECC9-0C25-5C37-E063-AAEFA00A445E     Play Space   194.292561\n",
       "4  E00053357  0295ED18-E5D4-5C37-E063-AAEFA00A445E  Playing Field   432.352481"
      ]
     },
     "execution_count": 48,
     "metadata": {},
     "output_type": "execute_result"
    }
   ],
   "source": [
    "unique_nearest_greenspace.head()"
   ]
  },
  {
   "cell_type": "code",
   "execution_count": 49,
   "id": "c7a9c818",
   "metadata": {},
   "outputs": [],
   "source": [
    "unique_nearest_greenspace.to_csv('Wrangled dataframes/unique_nearest_greenspace.csv', index=False)"
   ]
  },
  {
   "cell_type": "markdown",
   "id": "ac92f3f5",
   "metadata": {},
   "source": [
    "#### Independent variables dataframe"
   ]
  },
  {
   "cell_type": "code",
   "execution_count": 50,
   "id": "eb683649",
   "metadata": {},
   "outputs": [
    {
     "data": {
      "text/html": [
       "<div>\n",
       "<style scoped>\n",
       "    .dataframe tbody tr th:only-of-type {\n",
       "        vertical-align: middle;\n",
       "    }\n",
       "\n",
       "    .dataframe tbody tr th {\n",
       "        vertical-align: top;\n",
       "    }\n",
       "\n",
       "    .dataframe thead th {\n",
       "        text-align: right;\n",
       "    }\n",
       "</style>\n",
       "<table border=\"1\" class=\"dataframe\">\n",
       "  <thead>\n",
       "    <tr style=\"text-align: right;\">\n",
       "      <th></th>\n",
       "      <th>Output Areas Code</th>\n",
       "      <th>HHD_dep_education_PC</th>\n",
       "      <th>HHD_dep_employment_PC</th>\n",
       "      <th>HHD_dep_health_PC</th>\n",
       "      <th>HHD_dep_housing_PC</th>\n",
       "    </tr>\n",
       "  </thead>\n",
       "  <tbody>\n",
       "    <tr>\n",
       "      <th>0</th>\n",
       "      <td>E00053353</td>\n",
       "      <td>0.282787</td>\n",
       "      <td>0.114754</td>\n",
       "      <td>0.336066</td>\n",
       "      <td>0.077869</td>\n",
       "    </tr>\n",
       "    <tr>\n",
       "      <th>1</th>\n",
       "      <td>E00053354</td>\n",
       "      <td>0.172932</td>\n",
       "      <td>0.067669</td>\n",
       "      <td>0.308271</td>\n",
       "      <td>0.052632</td>\n",
       "    </tr>\n",
       "    <tr>\n",
       "      <th>2</th>\n",
       "      <td>E00053355</td>\n",
       "      <td>0.112000</td>\n",
       "      <td>0.048780</td>\n",
       "      <td>0.219512</td>\n",
       "      <td>0.016000</td>\n",
       "    </tr>\n",
       "    <tr>\n",
       "      <th>3</th>\n",
       "      <td>E00053356</td>\n",
       "      <td>0.215278</td>\n",
       "      <td>0.041667</td>\n",
       "      <td>0.340278</td>\n",
       "      <td>0.048611</td>\n",
       "    </tr>\n",
       "    <tr>\n",
       "      <th>4</th>\n",
       "      <td>E00053357</td>\n",
       "      <td>0.141844</td>\n",
       "      <td>0.034965</td>\n",
       "      <td>0.212766</td>\n",
       "      <td>0.007092</td>\n",
       "    </tr>\n",
       "  </tbody>\n",
       "</table>\n",
       "</div>"
      ],
      "text/plain": [
       "  Output Areas Code  HHD_dep_education_PC  HHD_dep_employment_PC  \\\n",
       "0         E00053353              0.282787               0.114754   \n",
       "1         E00053354              0.172932               0.067669   \n",
       "2         E00053355              0.112000               0.048780   \n",
       "3         E00053356              0.215278               0.041667   \n",
       "4         E00053357              0.141844               0.034965   \n",
       "\n",
       "   HHD_dep_health_PC  HHD_dep_housing_PC  \n",
       "0           0.336066            0.077869  \n",
       "1           0.308271            0.052632  \n",
       "2           0.219512            0.016000  \n",
       "3           0.340278            0.048611  \n",
       "4           0.212766            0.007092  "
      ]
     },
     "execution_count": 50,
     "metadata": {},
     "output_type": "execute_result"
    }
   ],
   "source": [
    "Ind_vars.head()"
   ]
  },
  {
   "cell_type": "code",
   "execution_count": 51,
   "id": "8ca51fe5",
   "metadata": {},
   "outputs": [],
   "source": [
    "Ind_vars.to_csv('Wrangled dataframes/Ind_vars.csv', index=False)"
   ]
  },
  {
   "cell_type": "markdown",
   "id": "703e77f2",
   "metadata": {},
   "source": [
    "#### Bradford polygon"
   ]
  },
  {
   "cell_type": "code",
   "execution_count": 52,
   "id": "abe4c0d9",
   "metadata": {},
   "outputs": [
    {
     "data": {
      "text/html": [
       "<div>\n",
       "<style scoped>\n",
       "    .dataframe tbody tr th:only-of-type {\n",
       "        vertical-align: middle;\n",
       "    }\n",
       "\n",
       "    .dataframe tbody tr th {\n",
       "        vertical-align: top;\n",
       "    }\n",
       "\n",
       "    .dataframe thead th {\n",
       "        text-align: right;\n",
       "    }\n",
       "</style>\n",
       "<table border=\"1\" class=\"dataframe\">\n",
       "  <thead>\n",
       "    <tr style=\"text-align: right;\">\n",
       "      <th></th>\n",
       "      <th>Polygon</th>\n",
       "    </tr>\n",
       "    <tr>\n",
       "      <th>City</th>\n",
       "      <th></th>\n",
       "    </tr>\n",
       "  </thead>\n",
       "  <tbody>\n",
       "    <tr>\n",
       "      <th>Bradford</th>\n",
       "      <td>POLYGON ((404750.688 432366.281, 404708.240 43...</td>\n",
       "    </tr>\n",
       "  </tbody>\n",
       "</table>\n",
       "</div>"
      ],
      "text/plain": [
       "                                                    Polygon\n",
       "City                                                       \n",
       "Bradford  POLYGON ((404750.688 432366.281, 404708.240 43..."
      ]
     },
     "execution_count": 52,
     "metadata": {},
     "output_type": "execute_result"
    }
   ],
   "source": [
    "Bradford_polygon"
   ]
  },
  {
   "cell_type": "code",
   "execution_count": 53,
   "id": "d06d193d",
   "metadata": {},
   "outputs": [],
   "source": [
    "Bradford_polygon.to_file('Wrangled dataframes/Bradford_polygon.geojson', driver='GeoJSON')"
   ]
  },
  {
   "cell_type": "markdown",
   "id": "5e0f3128",
   "metadata": {},
   "source": [
    "#### Final dataframe"
   ]
  },
  {
   "cell_type": "code",
   "execution_count": 54,
   "id": "bca2118f",
   "metadata": {},
   "outputs": [
    {
     "data": {
      "text/html": [
       "<div>\n",
       "<style scoped>\n",
       "    .dataframe tbody tr th:only-of-type {\n",
       "        vertical-align: middle;\n",
       "    }\n",
       "\n",
       "    .dataframe tbody tr th {\n",
       "        vertical-align: top;\n",
       "    }\n",
       "\n",
       "    .dataframe thead th {\n",
       "        text-align: right;\n",
       "    }\n",
       "</style>\n",
       "<table border=\"1\" class=\"dataframe\">\n",
       "  <thead>\n",
       "    <tr style=\"text-align: right;\">\n",
       "      <th></th>\n",
       "      <th>OA21CD</th>\n",
       "      <th>Distance</th>\n",
       "      <th>HHD_dep_education_PC</th>\n",
       "      <th>HHD_dep_employment_PC</th>\n",
       "      <th>HHD_dep_health_PC</th>\n",
       "      <th>HHD_dep_housing_PC</th>\n",
       "      <th>Polygon</th>\n",
       "    </tr>\n",
       "  </thead>\n",
       "  <tbody>\n",
       "    <tr>\n",
       "      <th>0</th>\n",
       "      <td>E00053353</td>\n",
       "      <td>1000.455806</td>\n",
       "      <td>0.282787</td>\n",
       "      <td>0.114754</td>\n",
       "      <td>0.336066</td>\n",
       "      <td>0.077869</td>\n",
       "      <td>POLYGON ((415817.093 440872.597, 415821.094 44...</td>\n",
       "    </tr>\n",
       "    <tr>\n",
       "      <th>1</th>\n",
       "      <td>E00053354</td>\n",
       "      <td>771.145845</td>\n",
       "      <td>0.172932</td>\n",
       "      <td>0.067669</td>\n",
       "      <td>0.308271</td>\n",
       "      <td>0.052632</td>\n",
       "      <td>POLYGON ((415078.000 439967.001, 415058.323 43...</td>\n",
       "    </tr>\n",
       "    <tr>\n",
       "      <th>2</th>\n",
       "      <td>E00053355</td>\n",
       "      <td>418.265674</td>\n",
       "      <td>0.112000</td>\n",
       "      <td>0.048780</td>\n",
       "      <td>0.219512</td>\n",
       "      <td>0.016000</td>\n",
       "      <td>POLYGON ((416252.367 439816.041, 416253.270 43...</td>\n",
       "    </tr>\n",
       "    <tr>\n",
       "      <th>3</th>\n",
       "      <td>E00053356</td>\n",
       "      <td>194.292561</td>\n",
       "      <td>0.215278</td>\n",
       "      <td>0.041667</td>\n",
       "      <td>0.340278</td>\n",
       "      <td>0.048611</td>\n",
       "      <td>POLYGON ((416668.000 439392.028, 416667.653 43...</td>\n",
       "    </tr>\n",
       "    <tr>\n",
       "      <th>4</th>\n",
       "      <td>E00053357</td>\n",
       "      <td>432.352481</td>\n",
       "      <td>0.141844</td>\n",
       "      <td>0.034965</td>\n",
       "      <td>0.212766</td>\n",
       "      <td>0.007092</td>\n",
       "      <td>POLYGON ((415143.909 439176.235, 415143.000 43...</td>\n",
       "    </tr>\n",
       "  </tbody>\n",
       "</table>\n",
       "</div>"
      ],
      "text/plain": [
       "      OA21CD     Distance  HHD_dep_education_PC  HHD_dep_employment_PC  \\\n",
       "0  E00053353  1000.455806              0.282787               0.114754   \n",
       "1  E00053354   771.145845              0.172932               0.067669   \n",
       "2  E00053355   418.265674              0.112000               0.048780   \n",
       "3  E00053356   194.292561              0.215278               0.041667   \n",
       "4  E00053357   432.352481              0.141844               0.034965   \n",
       "\n",
       "   HHD_dep_health_PC  HHD_dep_housing_PC  \\\n",
       "0           0.336066            0.077869   \n",
       "1           0.308271            0.052632   \n",
       "2           0.219512            0.016000   \n",
       "3           0.340278            0.048611   \n",
       "4           0.212766            0.007092   \n",
       "\n",
       "                                             Polygon  \n",
       "0  POLYGON ((415817.093 440872.597, 415821.094 44...  \n",
       "1  POLYGON ((415078.000 439967.001, 415058.323 43...  \n",
       "2  POLYGON ((416252.367 439816.041, 416253.270 43...  \n",
       "3  POLYGON ((416668.000 439392.028, 416667.653 43...  \n",
       "4  POLYGON ((415143.909 439176.235, 415143.000 43...  "
      ]
     },
     "execution_count": 54,
     "metadata": {},
     "output_type": "execute_result"
    }
   ],
   "source": [
    "final_df.head()"
   ]
  },
  {
   "cell_type": "code",
   "execution_count": 55,
   "id": "b1eb50d6",
   "metadata": {},
   "outputs": [],
   "source": [
    "final_df.to_file('Wrangled dataframes/final_df.geojson', driver='GeoJSON')"
   ]
  }
 ],
 "metadata": {
  "kernelspec": {
   "display_name": "Python 3 (ipykernel)",
   "language": "python",
   "name": "python3"
  },
  "language_info": {
   "codemirror_mode": {
    "name": "ipython",
    "version": 3
   },
   "file_extension": ".py",
   "mimetype": "text/x-python",
   "name": "python",
   "nbconvert_exporter": "python",
   "pygments_lexer": "ipython3",
   "version": "3.11.9"
  }
 },
 "nbformat": 4,
 "nbformat_minor": 5
}
